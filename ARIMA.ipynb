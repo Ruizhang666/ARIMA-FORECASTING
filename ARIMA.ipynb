{
 "cells": [
  {
   "cell_type": "markdown",
   "metadata": {},
   "source": [
    "# ARIMA Modelling: Forecasting Weekly Hotel Cancellations"
   ]
  },
  {
   "cell_type": "markdown",
   "metadata": {},
   "source": [
    "# Milestone 1\n",
    "\n",
    "The below defines the procedures for forming the weekly time series as specified."
   ]
  },
  {
   "cell_type": "markdown",
   "metadata": {},
   "source": [
    "### Import Libraries and define dtypes"
   ]
  },
  {
   "cell_type": "code",
   "execution_count": 1,
   "metadata": {},
   "outputs": [],
   "source": [
    "import csv\n",
    "import math\n",
    "import matplotlib.pyplot as plt\n",
    "import numpy as np\n",
    "import os\n",
    "import pandas as pd\n",
    "import pmdarima as pm\n",
    "import random\n",
    "import statsmodels.api as sm\n",
    "import statsmodels.formula.api as smf\n",
    "\n",
    "from numpy.random import seed\n",
    "seed(1)\n",
    "from pandas import DataFrame\n",
    "from sklearn.metrics import mean_squared_error\n",
    "from statsmodels.tsa.arima_model import ARIMA\n",
    "from statsmodels.tsa.seasonal import seasonal_decompose\n",
    "from statsmodels.tsa.stattools import acf, pacf\n",
    "from statsmodels.graphics.tsaplots import plot_acf, plot_pacf\n",
    "import statsmodels.tsa.stattools as ts\n",
    "\n",
    "dtypes = {\n",
    "        'IsCanceled':                                    'float64',\n",
    "        'LeadTime':                                          'float64',\n",
    "        'StaysInWeekendNights':                                     'float64',\n",
    "        'StaysInWeekNights':                                     'float64',\n",
    "        'Adults':                            'float64',\n",
    "        'Children':                            'float64',\n",
    "        'Babies':                                  'float64',\n",
    "        'Meal':                                    'category',\n",
    "        'Country':                                               'category',\n",
    "        'MarketSegment':                                    'category',\n",
    "        'DistributionChannel':                                       'category',\n",
    "        'IsRepeatedGuest':                               'float64',\n",
    "        'PreviousCancellations':                                    'float64',\n",
    "        'PreviousBookingsNotCanceled':                          'float64',\n",
    "        'ReservedRoomType':                                             'category',\n",
    "        'AssignedRoomType':                                            'category',\n",
    "        'BookingChanges':                                                'float64',\n",
    "        'DepositType':                                              'category',\n",
    "        'Agent':                                              'category',\n",
    "        'Company':                                 'category',\n",
    "        'DaysInWaitingList':                                           'float64',\n",
    "        'CustomerType':                                           'category',\n",
    "        'ADR':                                          'float64',\n",
    "        'RequiredCarParkingSpaces':                                      'float64',\n",
    "        'TotalOfSpecialRequests':                                              'float64',\n",
    "        'ReservationStatus':                                                'category'\n",
    "        }"
   ]
  },
  {
   "cell_type": "markdown",
   "metadata": {},
   "source": [
    "### Data is sorted by year and week number"
   ]
  },
  {
   "cell_type": "code",
   "execution_count": 2,
   "metadata": {},
   "outputs": [
    {
     "data": {
      "text/plain": [
       "pandas.core.frame.DataFrame"
      ]
     },
     "execution_count": 2,
     "metadata": {},
     "output_type": "execute_result"
    }
   ],
   "source": [
    "train_df = pd.read_csv('H1.csv', dtype=dtypes, converters={'ArrivalDateWeekNumber': '{:0>2}'.format})\n",
    "a=train_df.head()\n",
    "b=train_df\n",
    "b\n",
    "c=b.sort_values(['ArrivalDateYear','ArrivalDateWeekNumber'], ascending=True)\n",
    "c=pd.DataFrame(c)\n",
    "c\n",
    "type(c)"
   ]
  },
  {
   "cell_type": "code",
   "execution_count": 3,
   "metadata": {},
   "outputs": [
    {
     "data": {
      "text/html": [
       "<div>\n",
       "<style scoped>\n",
       "    .dataframe tbody tr th:only-of-type {\n",
       "        vertical-align: middle;\n",
       "    }\n",
       "\n",
       "    .dataframe tbody tr th {\n",
       "        vertical-align: top;\n",
       "    }\n",
       "\n",
       "    .dataframe thead th {\n",
       "        text-align: right;\n",
       "    }\n",
       "</style>\n",
       "<table border=\"1\" class=\"dataframe\">\n",
       "  <thead>\n",
       "    <tr style=\"text-align: right;\">\n",
       "      <th></th>\n",
       "      <th>IsCanceled</th>\n",
       "      <th>LeadTime</th>\n",
       "      <th>ArrivalDateYear</th>\n",
       "      <th>ArrivalDateMonth</th>\n",
       "      <th>ArrivalDateWeekNumber</th>\n",
       "      <th>ArrivalDateDayOfMonth</th>\n",
       "      <th>StaysInWeekendNights</th>\n",
       "      <th>StaysInWeekNights</th>\n",
       "      <th>Adults</th>\n",
       "      <th>Children</th>\n",
       "      <th>...</th>\n",
       "      <th>DepositType</th>\n",
       "      <th>Agent</th>\n",
       "      <th>Company</th>\n",
       "      <th>DaysInWaitingList</th>\n",
       "      <th>CustomerType</th>\n",
       "      <th>ADR</th>\n",
       "      <th>RequiredCarParkingSpaces</th>\n",
       "      <th>TotalOfSpecialRequests</th>\n",
       "      <th>ReservationStatus</th>\n",
       "      <th>ReservationStatusDate</th>\n",
       "    </tr>\n",
       "  </thead>\n",
       "  <tbody>\n",
       "    <tr>\n",
       "      <th>0</th>\n",
       "      <td>0.0</td>\n",
       "      <td>342.0</td>\n",
       "      <td>2015</td>\n",
       "      <td>July</td>\n",
       "      <td>27</td>\n",
       "      <td>1</td>\n",
       "      <td>0.0</td>\n",
       "      <td>0.0</td>\n",
       "      <td>2.0</td>\n",
       "      <td>0.0</td>\n",
       "      <td>...</td>\n",
       "      <td>No Deposit</td>\n",
       "      <td>NULL</td>\n",
       "      <td>NULL</td>\n",
       "      <td>0.0</td>\n",
       "      <td>Transient</td>\n",
       "      <td>0.00</td>\n",
       "      <td>0.0</td>\n",
       "      <td>0.0</td>\n",
       "      <td>Check-Out</td>\n",
       "      <td>2015-07-01</td>\n",
       "    </tr>\n",
       "    <tr>\n",
       "      <th>1</th>\n",
       "      <td>0.0</td>\n",
       "      <td>737.0</td>\n",
       "      <td>2015</td>\n",
       "      <td>July</td>\n",
       "      <td>27</td>\n",
       "      <td>1</td>\n",
       "      <td>0.0</td>\n",
       "      <td>0.0</td>\n",
       "      <td>2.0</td>\n",
       "      <td>0.0</td>\n",
       "      <td>...</td>\n",
       "      <td>No Deposit</td>\n",
       "      <td>NULL</td>\n",
       "      <td>NULL</td>\n",
       "      <td>0.0</td>\n",
       "      <td>Transient</td>\n",
       "      <td>0.00</td>\n",
       "      <td>0.0</td>\n",
       "      <td>0.0</td>\n",
       "      <td>Check-Out</td>\n",
       "      <td>2015-07-01</td>\n",
       "    </tr>\n",
       "    <tr>\n",
       "      <th>2</th>\n",
       "      <td>0.0</td>\n",
       "      <td>7.0</td>\n",
       "      <td>2015</td>\n",
       "      <td>July</td>\n",
       "      <td>27</td>\n",
       "      <td>1</td>\n",
       "      <td>0.0</td>\n",
       "      <td>1.0</td>\n",
       "      <td>1.0</td>\n",
       "      <td>0.0</td>\n",
       "      <td>...</td>\n",
       "      <td>No Deposit</td>\n",
       "      <td>NULL</td>\n",
       "      <td>NULL</td>\n",
       "      <td>0.0</td>\n",
       "      <td>Transient</td>\n",
       "      <td>75.00</td>\n",
       "      <td>0.0</td>\n",
       "      <td>0.0</td>\n",
       "      <td>Check-Out</td>\n",
       "      <td>2015-07-02</td>\n",
       "    </tr>\n",
       "    <tr>\n",
       "      <th>3</th>\n",
       "      <td>0.0</td>\n",
       "      <td>13.0</td>\n",
       "      <td>2015</td>\n",
       "      <td>July</td>\n",
       "      <td>27</td>\n",
       "      <td>1</td>\n",
       "      <td>0.0</td>\n",
       "      <td>1.0</td>\n",
       "      <td>1.0</td>\n",
       "      <td>0.0</td>\n",
       "      <td>...</td>\n",
       "      <td>No Deposit</td>\n",
       "      <td>304</td>\n",
       "      <td>NULL</td>\n",
       "      <td>0.0</td>\n",
       "      <td>Transient</td>\n",
       "      <td>75.00</td>\n",
       "      <td>0.0</td>\n",
       "      <td>0.0</td>\n",
       "      <td>Check-Out</td>\n",
       "      <td>2015-07-02</td>\n",
       "    </tr>\n",
       "    <tr>\n",
       "      <th>4</th>\n",
       "      <td>0.0</td>\n",
       "      <td>14.0</td>\n",
       "      <td>2015</td>\n",
       "      <td>July</td>\n",
       "      <td>27</td>\n",
       "      <td>1</td>\n",
       "      <td>0.0</td>\n",
       "      <td>2.0</td>\n",
       "      <td>2.0</td>\n",
       "      <td>0.0</td>\n",
       "      <td>...</td>\n",
       "      <td>No Deposit</td>\n",
       "      <td>240</td>\n",
       "      <td>NULL</td>\n",
       "      <td>0.0</td>\n",
       "      <td>Transient</td>\n",
       "      <td>98.00</td>\n",
       "      <td>0.0</td>\n",
       "      <td>1.0</td>\n",
       "      <td>Check-Out</td>\n",
       "      <td>2015-07-03</td>\n",
       "    </tr>\n",
       "    <tr>\n",
       "      <th>...</th>\n",
       "      <td>...</td>\n",
       "      <td>...</td>\n",
       "      <td>...</td>\n",
       "      <td>...</td>\n",
       "      <td>...</td>\n",
       "      <td>...</td>\n",
       "      <td>...</td>\n",
       "      <td>...</td>\n",
       "      <td>...</td>\n",
       "      <td>...</td>\n",
       "      <td>...</td>\n",
       "      <td>...</td>\n",
       "      <td>...</td>\n",
       "      <td>...</td>\n",
       "      <td>...</td>\n",
       "      <td>...</td>\n",
       "      <td>...</td>\n",
       "      <td>...</td>\n",
       "      <td>...</td>\n",
       "      <td>...</td>\n",
       "      <td>...</td>\n",
       "    </tr>\n",
       "    <tr>\n",
       "      <th>40055</th>\n",
       "      <td>0.0</td>\n",
       "      <td>212.0</td>\n",
       "      <td>2017</td>\n",
       "      <td>August</td>\n",
       "      <td>35</td>\n",
       "      <td>31</td>\n",
       "      <td>2.0</td>\n",
       "      <td>8.0</td>\n",
       "      <td>2.0</td>\n",
       "      <td>1.0</td>\n",
       "      <td>...</td>\n",
       "      <td>No Deposit</td>\n",
       "      <td>143</td>\n",
       "      <td>NULL</td>\n",
       "      <td>0.0</td>\n",
       "      <td>Transient</td>\n",
       "      <td>89.75</td>\n",
       "      <td>0.0</td>\n",
       "      <td>0.0</td>\n",
       "      <td>Check-Out</td>\n",
       "      <td>2017-09-10</td>\n",
       "    </tr>\n",
       "    <tr>\n",
       "      <th>40056</th>\n",
       "      <td>0.0</td>\n",
       "      <td>169.0</td>\n",
       "      <td>2017</td>\n",
       "      <td>August</td>\n",
       "      <td>35</td>\n",
       "      <td>30</td>\n",
       "      <td>2.0</td>\n",
       "      <td>9.0</td>\n",
       "      <td>2.0</td>\n",
       "      <td>0.0</td>\n",
       "      <td>...</td>\n",
       "      <td>No Deposit</td>\n",
       "      <td>250</td>\n",
       "      <td>NULL</td>\n",
       "      <td>0.0</td>\n",
       "      <td>Transient-Party</td>\n",
       "      <td>202.27</td>\n",
       "      <td>0.0</td>\n",
       "      <td>1.0</td>\n",
       "      <td>Check-Out</td>\n",
       "      <td>2017-09-10</td>\n",
       "    </tr>\n",
       "    <tr>\n",
       "      <th>40057</th>\n",
       "      <td>0.0</td>\n",
       "      <td>204.0</td>\n",
       "      <td>2017</td>\n",
       "      <td>August</td>\n",
       "      <td>35</td>\n",
       "      <td>29</td>\n",
       "      <td>4.0</td>\n",
       "      <td>10.0</td>\n",
       "      <td>2.0</td>\n",
       "      <td>0.0</td>\n",
       "      <td>...</td>\n",
       "      <td>No Deposit</td>\n",
       "      <td>250</td>\n",
       "      <td>NULL</td>\n",
       "      <td>0.0</td>\n",
       "      <td>Transient</td>\n",
       "      <td>153.57</td>\n",
       "      <td>0.0</td>\n",
       "      <td>3.0</td>\n",
       "      <td>Check-Out</td>\n",
       "      <td>2017-09-12</td>\n",
       "    </tr>\n",
       "    <tr>\n",
       "      <th>40058</th>\n",
       "      <td>0.0</td>\n",
       "      <td>211.0</td>\n",
       "      <td>2017</td>\n",
       "      <td>August</td>\n",
       "      <td>35</td>\n",
       "      <td>31</td>\n",
       "      <td>4.0</td>\n",
       "      <td>10.0</td>\n",
       "      <td>2.0</td>\n",
       "      <td>0.0</td>\n",
       "      <td>...</td>\n",
       "      <td>No Deposit</td>\n",
       "      <td>40</td>\n",
       "      <td>NULL</td>\n",
       "      <td>0.0</td>\n",
       "      <td>Contract</td>\n",
       "      <td>112.80</td>\n",
       "      <td>0.0</td>\n",
       "      <td>1.0</td>\n",
       "      <td>Check-Out</td>\n",
       "      <td>2017-09-14</td>\n",
       "    </tr>\n",
       "    <tr>\n",
       "      <th>40059</th>\n",
       "      <td>0.0</td>\n",
       "      <td>161.0</td>\n",
       "      <td>2017</td>\n",
       "      <td>August</td>\n",
       "      <td>35</td>\n",
       "      <td>31</td>\n",
       "      <td>4.0</td>\n",
       "      <td>10.0</td>\n",
       "      <td>2.0</td>\n",
       "      <td>0.0</td>\n",
       "      <td>...</td>\n",
       "      <td>No Deposit</td>\n",
       "      <td>69</td>\n",
       "      <td>NULL</td>\n",
       "      <td>0.0</td>\n",
       "      <td>Transient</td>\n",
       "      <td>99.06</td>\n",
       "      <td>0.0</td>\n",
       "      <td>0.0</td>\n",
       "      <td>Check-Out</td>\n",
       "      <td>2017-09-14</td>\n",
       "    </tr>\n",
       "  </tbody>\n",
       "</table>\n",
       "<p>40060 rows × 31 columns</p>\n",
       "</div>"
      ],
      "text/plain": [
       "       IsCanceled  LeadTime  ArrivalDateYear ArrivalDateMonth  \\\n",
       "0             0.0     342.0             2015             July   \n",
       "1             0.0     737.0             2015             July   \n",
       "2             0.0       7.0             2015             July   \n",
       "3             0.0      13.0             2015             July   \n",
       "4             0.0      14.0             2015             July   \n",
       "...           ...       ...              ...              ...   \n",
       "40055         0.0     212.0             2017           August   \n",
       "40056         0.0     169.0             2017           August   \n",
       "40057         0.0     204.0             2017           August   \n",
       "40058         0.0     211.0             2017           August   \n",
       "40059         0.0     161.0             2017           August   \n",
       "\n",
       "      ArrivalDateWeekNumber  ArrivalDateDayOfMonth  StaysInWeekendNights  \\\n",
       "0                        27                      1                   0.0   \n",
       "1                        27                      1                   0.0   \n",
       "2                        27                      1                   0.0   \n",
       "3                        27                      1                   0.0   \n",
       "4                        27                      1                   0.0   \n",
       "...                     ...                    ...                   ...   \n",
       "40055                    35                     31                   2.0   \n",
       "40056                    35                     30                   2.0   \n",
       "40057                    35                     29                   4.0   \n",
       "40058                    35                     31                   4.0   \n",
       "40059                    35                     31                   4.0   \n",
       "\n",
       "       StaysInWeekNights  Adults  Children  ...      DepositType        Agent  \\\n",
       "0                    0.0     2.0       0.0  ...  No Deposit              NULL   \n",
       "1                    0.0     2.0       0.0  ...  No Deposit              NULL   \n",
       "2                    1.0     1.0       0.0  ...  No Deposit              NULL   \n",
       "3                    1.0     1.0       0.0  ...  No Deposit               304   \n",
       "4                    2.0     2.0       0.0  ...  No Deposit               240   \n",
       "...                  ...     ...       ...  ...              ...          ...   \n",
       "40055                8.0     2.0       1.0  ...  No Deposit               143   \n",
       "40056                9.0     2.0       0.0  ...  No Deposit               250   \n",
       "40057               10.0     2.0       0.0  ...  No Deposit               250   \n",
       "40058               10.0     2.0       0.0  ...  No Deposit                40   \n",
       "40059               10.0     2.0       0.0  ...  No Deposit                69   \n",
       "\n",
       "           Company DaysInWaitingList     CustomerType     ADR  \\\n",
       "0             NULL               0.0        Transient    0.00   \n",
       "1             NULL               0.0        Transient    0.00   \n",
       "2             NULL               0.0        Transient   75.00   \n",
       "3             NULL               0.0        Transient   75.00   \n",
       "4             NULL               0.0        Transient   98.00   \n",
       "...            ...               ...              ...     ...   \n",
       "40055         NULL               0.0        Transient   89.75   \n",
       "40056         NULL               0.0  Transient-Party  202.27   \n",
       "40057         NULL               0.0        Transient  153.57   \n",
       "40058         NULL               0.0         Contract  112.80   \n",
       "40059         NULL               0.0        Transient   99.06   \n",
       "\n",
       "       RequiredCarParkingSpaces  TotalOfSpecialRequests ReservationStatus  \\\n",
       "0                           0.0                     0.0         Check-Out   \n",
       "1                           0.0                     0.0         Check-Out   \n",
       "2                           0.0                     0.0         Check-Out   \n",
       "3                           0.0                     0.0         Check-Out   \n",
       "4                           0.0                     1.0         Check-Out   \n",
       "...                         ...                     ...               ...   \n",
       "40055                       0.0                     0.0         Check-Out   \n",
       "40056                       0.0                     1.0         Check-Out   \n",
       "40057                       0.0                     3.0         Check-Out   \n",
       "40058                       0.0                     1.0         Check-Out   \n",
       "40059                       0.0                     0.0         Check-Out   \n",
       "\n",
       "      ReservationStatusDate  \n",
       "0                2015-07-01  \n",
       "1                2015-07-01  \n",
       "2                2015-07-02  \n",
       "3                2015-07-02  \n",
       "4                2015-07-03  \n",
       "...                     ...  \n",
       "40055            2017-09-10  \n",
       "40056            2017-09-10  \n",
       "40057            2017-09-12  \n",
       "40058            2017-09-14  \n",
       "40059            2017-09-14  \n",
       "\n",
       "[40060 rows x 31 columns]"
      ]
     },
     "execution_count": 3,
     "metadata": {},
     "output_type": "execute_result"
    }
   ],
   "source": [
    "c"
   ]
  },
  {
   "cell_type": "code",
   "execution_count": 4,
   "metadata": {},
   "outputs": [
    {
     "data": {
      "text/html": [
       "<div>\n",
       "<style scoped>\n",
       "    .dataframe tbody tr th:only-of-type {\n",
       "        vertical-align: middle;\n",
       "    }\n",
       "\n",
       "    .dataframe tbody tr th {\n",
       "        vertical-align: top;\n",
       "    }\n",
       "\n",
       "    .dataframe thead th {\n",
       "        text-align: right;\n",
       "    }\n",
       "</style>\n",
       "<table border=\"1\" class=\"dataframe\">\n",
       "  <thead>\n",
       "    <tr style=\"text-align: right;\">\n",
       "      <th></th>\n",
       "      <th>ArrivalDateYear</th>\n",
       "      <th>ArrivalDateWeekNumber</th>\n",
       "    </tr>\n",
       "  </thead>\n",
       "  <tbody>\n",
       "    <tr>\n",
       "      <th>0</th>\n",
       "      <td>2015</td>\n",
       "      <td>27</td>\n",
       "    </tr>\n",
       "    <tr>\n",
       "      <th>1</th>\n",
       "      <td>2015</td>\n",
       "      <td>27</td>\n",
       "    </tr>\n",
       "    <tr>\n",
       "      <th>2</th>\n",
       "      <td>2015</td>\n",
       "      <td>27</td>\n",
       "    </tr>\n",
       "    <tr>\n",
       "      <th>3</th>\n",
       "      <td>2015</td>\n",
       "      <td>27</td>\n",
       "    </tr>\n",
       "    <tr>\n",
       "      <th>4</th>\n",
       "      <td>2015</td>\n",
       "      <td>27</td>\n",
       "    </tr>\n",
       "    <tr>\n",
       "      <th>...</th>\n",
       "      <td>...</td>\n",
       "      <td>...</td>\n",
       "    </tr>\n",
       "    <tr>\n",
       "      <th>40055</th>\n",
       "      <td>2017</td>\n",
       "      <td>35</td>\n",
       "    </tr>\n",
       "    <tr>\n",
       "      <th>40056</th>\n",
       "      <td>2017</td>\n",
       "      <td>35</td>\n",
       "    </tr>\n",
       "    <tr>\n",
       "      <th>40057</th>\n",
       "      <td>2017</td>\n",
       "      <td>35</td>\n",
       "    </tr>\n",
       "    <tr>\n",
       "      <th>40058</th>\n",
       "      <td>2017</td>\n",
       "      <td>35</td>\n",
       "    </tr>\n",
       "    <tr>\n",
       "      <th>40059</th>\n",
       "      <td>2017</td>\n",
       "      <td>35</td>\n",
       "    </tr>\n",
       "  </tbody>\n",
       "</table>\n",
       "<p>40060 rows × 2 columns</p>\n",
       "</div>"
      ],
      "text/plain": [
       "       ArrivalDateYear ArrivalDateWeekNumber\n",
       "0                 2015                    27\n",
       "1                 2015                    27\n",
       "2                 2015                    27\n",
       "3                 2015                    27\n",
       "4                 2015                    27\n",
       "...                ...                   ...\n",
       "40055             2017                    35\n",
       "40056             2017                    35\n",
       "40057             2017                    35\n",
       "40058             2017                    35\n",
       "40059             2017                    35\n",
       "\n",
       "[40060 rows x 2 columns]"
      ]
     },
     "execution_count": 4,
     "metadata": {},
     "output_type": "execute_result"
    }
   ],
   "source": [
    "df = DataFrame(c, columns= ['ArrivalDateYear', 'ArrivalDateWeekNumber']) \n",
    "df"
   ]
  },
  {
   "cell_type": "code",
   "execution_count": 5,
   "metadata": {},
   "outputs": [
    {
     "name": "stdout",
     "output_type": "stream",
     "text": [
      "0        201527\n",
      "1        201527\n",
      "2        201527\n",
      "3        201527\n",
      "4        201527\n",
      "          ...  \n",
      "40055    201735\n",
      "40056    201735\n",
      "40057    201735\n",
      "40058    201735\n",
      "40059    201735\n",
      "Length: 40060, dtype: object\n"
     ]
    }
   ],
   "source": [
    "df1 = df['ArrivalDateYear'].map(str) + df['ArrivalDateWeekNumber'].map(str)\n",
    "print (df1)\n",
    "df1=pd.DataFrame(df1)"
   ]
  },
  {
   "cell_type": "markdown",
   "metadata": {},
   "source": [
    "### Cancellation entries are joined with the associated date"
   ]
  },
  {
   "cell_type": "code",
   "execution_count": 6,
   "metadata": {
    "scrolled": true
   },
   "outputs": [
    {
     "data": {
      "text/html": [
       "<div>\n",
       "<style scoped>\n",
       "    .dataframe tbody tr th:only-of-type {\n",
       "        vertical-align: middle;\n",
       "    }\n",
       "\n",
       "    .dataframe tbody tr th {\n",
       "        vertical-align: top;\n",
       "    }\n",
       "\n",
       "    .dataframe thead th {\n",
       "        text-align: right;\n",
       "    }\n",
       "</style>\n",
       "<table border=\"1\" class=\"dataframe\">\n",
       "  <thead>\n",
       "    <tr style=\"text-align: right;\">\n",
       "      <th></th>\n",
       "      <th>IsCanceled</th>\n",
       "    </tr>\n",
       "  </thead>\n",
       "  <tbody>\n",
       "    <tr>\n",
       "      <th>0</th>\n",
       "      <td>0.0</td>\n",
       "    </tr>\n",
       "    <tr>\n",
       "      <th>1</th>\n",
       "      <td>0.0</td>\n",
       "    </tr>\n",
       "    <tr>\n",
       "      <th>2</th>\n",
       "      <td>0.0</td>\n",
       "    </tr>\n",
       "    <tr>\n",
       "      <th>3</th>\n",
       "      <td>0.0</td>\n",
       "    </tr>\n",
       "    <tr>\n",
       "      <th>4</th>\n",
       "      <td>0.0</td>\n",
       "    </tr>\n",
       "    <tr>\n",
       "      <th>...</th>\n",
       "      <td>...</td>\n",
       "    </tr>\n",
       "    <tr>\n",
       "      <th>40055</th>\n",
       "      <td>0.0</td>\n",
       "    </tr>\n",
       "    <tr>\n",
       "      <th>40056</th>\n",
       "      <td>0.0</td>\n",
       "    </tr>\n",
       "    <tr>\n",
       "      <th>40057</th>\n",
       "      <td>0.0</td>\n",
       "    </tr>\n",
       "    <tr>\n",
       "      <th>40058</th>\n",
       "      <td>0.0</td>\n",
       "    </tr>\n",
       "    <tr>\n",
       "      <th>40059</th>\n",
       "      <td>0.0</td>\n",
       "    </tr>\n",
       "  </tbody>\n",
       "</table>\n",
       "<p>40060 rows × 1 columns</p>\n",
       "</div>"
      ],
      "text/plain": [
       "       IsCanceled\n",
       "0             0.0\n",
       "1             0.0\n",
       "2             0.0\n",
       "3             0.0\n",
       "4             0.0\n",
       "...           ...\n",
       "40055         0.0\n",
       "40056         0.0\n",
       "40057         0.0\n",
       "40058         0.0\n",
       "40059         0.0\n",
       "\n",
       "[40060 rows x 1 columns]"
      ]
     },
     "execution_count": 6,
     "metadata": {},
     "output_type": "execute_result"
    }
   ],
   "source": [
    "df2 = DataFrame(c, columns= ['IsCanceled']) \n",
    "df2"
   ]
  },
  {
   "cell_type": "code",
   "execution_count": 7,
   "metadata": {},
   "outputs": [
    {
     "data": {
      "text/plain": [
       "pandas.core.frame.DataFrame"
      ]
     },
     "execution_count": 7,
     "metadata": {},
     "output_type": "execute_result"
    }
   ],
   "source": [
    "type(df1)"
   ]
  },
  {
   "cell_type": "code",
   "execution_count": 8,
   "metadata": {},
   "outputs": [],
   "source": [
    "df3=pd.concat([df1, df2], axis = 1)\n",
    "df3\n",
    "df3.columns = ['FullDate', 'IsCanceled']"
   ]
  },
  {
   "cell_type": "code",
   "execution_count": 9,
   "metadata": {},
   "outputs": [
    {
     "data": {
      "text/html": [
       "<div>\n",
       "<style scoped>\n",
       "    .dataframe tbody tr th:only-of-type {\n",
       "        vertical-align: middle;\n",
       "    }\n",
       "\n",
       "    .dataframe tbody tr th {\n",
       "        vertical-align: top;\n",
       "    }\n",
       "\n",
       "    .dataframe thead th {\n",
       "        text-align: right;\n",
       "    }\n",
       "</style>\n",
       "<table border=\"1\" class=\"dataframe\">\n",
       "  <thead>\n",
       "    <tr style=\"text-align: right;\">\n",
       "      <th></th>\n",
       "      <th>FullDate</th>\n",
       "      <th>IsCanceled</th>\n",
       "    </tr>\n",
       "  </thead>\n",
       "  <tbody>\n",
       "    <tr>\n",
       "      <th>0</th>\n",
       "      <td>201527</td>\n",
       "      <td>0.0</td>\n",
       "    </tr>\n",
       "    <tr>\n",
       "      <th>1</th>\n",
       "      <td>201527</td>\n",
       "      <td>0.0</td>\n",
       "    </tr>\n",
       "    <tr>\n",
       "      <th>2</th>\n",
       "      <td>201527</td>\n",
       "      <td>0.0</td>\n",
       "    </tr>\n",
       "    <tr>\n",
       "      <th>3</th>\n",
       "      <td>201527</td>\n",
       "      <td>0.0</td>\n",
       "    </tr>\n",
       "    <tr>\n",
       "      <th>4</th>\n",
       "      <td>201527</td>\n",
       "      <td>0.0</td>\n",
       "    </tr>\n",
       "    <tr>\n",
       "      <th>...</th>\n",
       "      <td>...</td>\n",
       "      <td>...</td>\n",
       "    </tr>\n",
       "    <tr>\n",
       "      <th>13799</th>\n",
       "      <td>201735</td>\n",
       "      <td>1.0</td>\n",
       "    </tr>\n",
       "    <tr>\n",
       "      <th>13800</th>\n",
       "      <td>201735</td>\n",
       "      <td>1.0</td>\n",
       "    </tr>\n",
       "    <tr>\n",
       "      <th>13801</th>\n",
       "      <td>201735</td>\n",
       "      <td>1.0</td>\n",
       "    </tr>\n",
       "    <tr>\n",
       "      <th>13802</th>\n",
       "      <td>201735</td>\n",
       "      <td>1.0</td>\n",
       "    </tr>\n",
       "    <tr>\n",
       "      <th>27627</th>\n",
       "      <td>201735</td>\n",
       "      <td>1.0</td>\n",
       "    </tr>\n",
       "  </tbody>\n",
       "</table>\n",
       "<p>40060 rows × 2 columns</p>\n",
       "</div>"
      ],
      "text/plain": [
       "      FullDate  IsCanceled\n",
       "0       201527         0.0\n",
       "1       201527         0.0\n",
       "2       201527         0.0\n",
       "3       201527         0.0\n",
       "4       201527         0.0\n",
       "...        ...         ...\n",
       "13799   201735         1.0\n",
       "13800   201735         1.0\n",
       "13801   201735         1.0\n",
       "13802   201735         1.0\n",
       "27627   201735         1.0\n",
       "\n",
       "[40060 rows x 2 columns]"
      ]
     },
     "execution_count": 9,
     "metadata": {},
     "output_type": "execute_result"
    }
   ],
   "source": [
    "df3\n",
    "df3.sort_values(['FullDate','IsCanceled'], ascending=True)"
   ]
  },
  {
   "cell_type": "code",
   "execution_count": 10,
   "metadata": {},
   "outputs": [
    {
     "data": {
      "text/plain": [
       "pandas.core.frame.DataFrame"
      ]
     },
     "execution_count": 10,
     "metadata": {},
     "output_type": "execute_result"
    }
   ],
   "source": [
    "type(df3)"
   ]
  },
  {
   "cell_type": "markdown",
   "metadata": {},
   "source": [
    "### Cancellations are aggregated on a weekly basis"
   ]
  },
  {
   "cell_type": "code",
   "execution_count": 11,
   "metadata": {},
   "outputs": [
    {
     "data": {
      "text/html": [
       "<div>\n",
       "<style scoped>\n",
       "    .dataframe tbody tr th:only-of-type {\n",
       "        vertical-align: middle;\n",
       "    }\n",
       "\n",
       "    .dataframe tbody tr th {\n",
       "        vertical-align: top;\n",
       "    }\n",
       "\n",
       "    .dataframe thead th {\n",
       "        text-align: right;\n",
       "    }\n",
       "</style>\n",
       "<table border=\"1\" class=\"dataframe\">\n",
       "  <thead>\n",
       "    <tr style=\"text-align: right;\">\n",
       "      <th></th>\n",
       "      <th>IsCanceled</th>\n",
       "    </tr>\n",
       "    <tr>\n",
       "      <th>FullDate</th>\n",
       "      <th></th>\n",
       "    </tr>\n",
       "  </thead>\n",
       "  <tbody>\n",
       "    <tr>\n",
       "      <th>201527</th>\n",
       "      <td>41.0</td>\n",
       "    </tr>\n",
       "    <tr>\n",
       "      <th>201528</th>\n",
       "      <td>48.0</td>\n",
       "    </tr>\n",
       "    <tr>\n",
       "      <th>201529</th>\n",
       "      <td>87.0</td>\n",
       "    </tr>\n",
       "    <tr>\n",
       "      <th>201530</th>\n",
       "      <td>74.0</td>\n",
       "    </tr>\n",
       "    <tr>\n",
       "      <th>201531</th>\n",
       "      <td>101.0</td>\n",
       "    </tr>\n",
       "    <tr>\n",
       "      <th>...</th>\n",
       "      <td>...</td>\n",
       "    </tr>\n",
       "    <tr>\n",
       "      <th>201731</th>\n",
       "      <td>173.0</td>\n",
       "    </tr>\n",
       "    <tr>\n",
       "      <th>201732</th>\n",
       "      <td>140.0</td>\n",
       "    </tr>\n",
       "    <tr>\n",
       "      <th>201733</th>\n",
       "      <td>182.0</td>\n",
       "    </tr>\n",
       "    <tr>\n",
       "      <th>201734</th>\n",
       "      <td>143.0</td>\n",
       "    </tr>\n",
       "    <tr>\n",
       "      <th>201735</th>\n",
       "      <td>100.0</td>\n",
       "    </tr>\n",
       "  </tbody>\n",
       "</table>\n",
       "<p>115 rows × 1 columns</p>\n",
       "</div>"
      ],
      "text/plain": [
       "          IsCanceled\n",
       "FullDate            \n",
       "201527          41.0\n",
       "201528          48.0\n",
       "201529          87.0\n",
       "201530          74.0\n",
       "201531         101.0\n",
       "...              ...\n",
       "201731         173.0\n",
       "201732         140.0\n",
       "201733         182.0\n",
       "201734         143.0\n",
       "201735         100.0\n",
       "\n",
       "[115 rows x 1 columns]"
      ]
     },
     "execution_count": 11,
     "metadata": {},
     "output_type": "execute_result"
    }
   ],
   "source": [
    "df4 = df3.groupby('FullDate').agg(sum)\n",
    "df4\n",
    "df4.sort_values(['FullDate'], ascending=True)"
   ]
  },
  {
   "cell_type": "code",
   "execution_count": 12,
   "metadata": {},
   "outputs": [
    {
     "data": {
      "text/plain": [
       "FullDate\n",
       "201527     41.0\n",
       "201528     48.0\n",
       "201529     87.0\n",
       "201530     74.0\n",
       "201531    101.0\n",
       "          ...  \n",
       "201731    173.0\n",
       "201732    140.0\n",
       "201733    182.0\n",
       "201734    143.0\n",
       "201735    100.0\n",
       "Name: IsCanceled, Length: 115, dtype: float64"
      ]
     },
     "execution_count": 12,
     "metadata": {},
     "output_type": "execute_result"
    }
   ],
   "source": [
    "tseries=df4['IsCanceled']\n",
    "tseries"
   ]
  },
  {
   "cell_type": "code",
   "execution_count": 13,
   "metadata": {},
   "outputs": [
    {
     "data": {
      "image/png": "[encoded data removed]",
      "text/plain": [
       "<Figure size 432x288 with 1 Axes>"
      ]
     },
     "metadata": {
      "needs_background": "light"
     },
     "output_type": "display_data"
    }
   ],
   "source": [
    "plt.plot(tseries)\n",
    "plt.tick_params(\n",
    "    axis='x',\n",
    "    which='both',\n",
    "    bottom=False,\n",
    "    top=False,\n",
    "    labelbottom=False)\n",
    "plt.show()"
   ]
  },
  {
   "cell_type": "markdown",
   "metadata": {},
   "source": [
    "Note the components of each time series as graphed below. This provides important visual signals for the structure of the time series, and is important for a more intuitive understanding of the eventual ARIMA model structure that will be chosen."
   ]
  },
  {
   "cell_type": "markdown",
   "metadata": {},
   "source": [
    "# Milestone 2\n",
    "\n",
    "The time series is decomposed, autocorrelation and partial autocorrelation plots are generated, a 4-week moving average is calculated, and a 90/10 train-test split is conducted."
   ]
  },
  {
   "cell_type": "markdown",
   "metadata": {},
   "source": [
    "### Time Series Decomposition"
   ]
  },
  {
   "cell_type": "code",
   "execution_count": 14,
   "metadata": {},
   "outputs": [
    {
     "name": "stderr",
     "output_type": "stream",
     "text": [
      "/home/michael/.local/lib/python3.6/site-packages/ipykernel_launcher.py:1: FutureWarning: the 'freq'' keyword is deprecated, use 'period' instead\n",
      "  \"\"\"Entry point for launching an IPython kernel.\n"
     ]
    },
    {
     "data": {
      "image/png": "[encoded data removed]",
      "text/plain": [
       "<Figure size 432x288 with 4 Axes>"
      ]
     },
     "metadata": {
      "needs_background": "light"
     },
     "output_type": "display_data"
    }
   ],
   "source": [
    "decomposition=seasonal_decompose(tseries, freq = 52)\n",
    "residual=decomposition.resid\n",
    "trend=decomposition.trend\n",
    "seasonal=decomposition.seasonal\n",
    "\n",
    "plt.subplot(221)\n",
    "plt.plot(tseries,color='#ff0000', label='Series')\n",
    "plt.legend(loc='best')\n",
    "plt.subplot(222)\n",
    "plt.plot(trend,color='#1100ff', label='Trend')\n",
    "plt.legend(loc='best')\n",
    "plt.tight_layout()\n",
    "plt.subplot(223)\n",
    "plt.plot(residual,color='#00ff1a', label='Residual')\n",
    "plt.legend(loc='best')\n",
    "plt.tight_layout()\n",
    "plt.subplot(224)\n",
    "plt.plot(seasonal,color='#de00ff', label='Seasonality')\n",
    "plt.legend(loc='best')\n",
    "plt.tight_layout()\n",
    "plt.show()"
   ]
  },
  {
   "cell_type": "code",
   "execution_count": 15,
   "metadata": {},
   "outputs": [
    {
     "data": {
      "text/html": [
       "<div>\n",
       "<style scoped>\n",
       "    .dataframe tbody tr th:only-of-type {\n",
       "        vertical-align: middle;\n",
       "    }\n",
       "\n",
       "    .dataframe tbody tr th {\n",
       "        vertical-align: top;\n",
       "    }\n",
       "\n",
       "    .dataframe thead th {\n",
       "        text-align: right;\n",
       "    }\n",
       "</style>\n",
       "<table border=\"1\" class=\"dataframe\">\n",
       "  <thead>\n",
       "    <tr style=\"text-align: right;\">\n",
       "      <th></th>\n",
       "      <th>IsCanceled</th>\n",
       "    </tr>\n",
       "    <tr>\n",
       "      <th>FullDate</th>\n",
       "      <th></th>\n",
       "    </tr>\n",
       "  </thead>\n",
       "  <tbody>\n",
       "    <tr>\n",
       "      <th>201527</th>\n",
       "      <td>41.0</td>\n",
       "    </tr>\n",
       "    <tr>\n",
       "      <th>201528</th>\n",
       "      <td>48.0</td>\n",
       "    </tr>\n",
       "    <tr>\n",
       "      <th>201529</th>\n",
       "      <td>87.0</td>\n",
       "    </tr>\n",
       "    <tr>\n",
       "      <th>201530</th>\n",
       "      <td>74.0</td>\n",
       "    </tr>\n",
       "    <tr>\n",
       "      <th>201531</th>\n",
       "      <td>101.0</td>\n",
       "    </tr>\n",
       "    <tr>\n",
       "      <th>...</th>\n",
       "      <td>...</td>\n",
       "    </tr>\n",
       "    <tr>\n",
       "      <th>201731</th>\n",
       "      <td>173.0</td>\n",
       "    </tr>\n",
       "    <tr>\n",
       "      <th>201732</th>\n",
       "      <td>140.0</td>\n",
       "    </tr>\n",
       "    <tr>\n",
       "      <th>201733</th>\n",
       "      <td>182.0</td>\n",
       "    </tr>\n",
       "    <tr>\n",
       "      <th>201734</th>\n",
       "      <td>143.0</td>\n",
       "    </tr>\n",
       "    <tr>\n",
       "      <th>201735</th>\n",
       "      <td>100.0</td>\n",
       "    </tr>\n",
       "  </tbody>\n",
       "</table>\n",
       "<p>115 rows × 1 columns</p>\n",
       "</div>"
      ],
      "text/plain": [
       "          IsCanceled\n",
       "FullDate            \n",
       "201527          41.0\n",
       "201528          48.0\n",
       "201529          87.0\n",
       "201530          74.0\n",
       "201531         101.0\n",
       "...              ...\n",
       "201731         173.0\n",
       "201732         140.0\n",
       "201733         182.0\n",
       "201734         143.0\n",
       "201735         100.0\n",
       "\n",
       "[115 rows x 1 columns]"
      ]
     },
     "execution_count": 15,
     "metadata": {},
     "output_type": "execute_result"
    }
   ],
   "source": [
    "df=pd.DataFrame(tseries)\n",
    "df"
   ]
  },
  {
   "cell_type": "code",
   "execution_count": 16,
   "metadata": {},
   "outputs": [
    {
     "name": "stderr",
     "output_type": "stream",
     "text": [
      "/home/michael/.local/lib/python3.6/site-packages/statsmodels/tsa/stattools.py:572: FutureWarning: fft=True will become the default in a future version of statsmodels. To suppress this warning, explicitly set fft=False.\n",
      "  FutureWarning\n"
     ]
    },
    {
     "data": {
      "text/plain": [
       "array([ 1.        ,  0.36055904,  0.43832205,  0.40127022,  0.22826716,\n",
       "        0.24918724,  0.15101187,  0.18028853,  0.24989161,  0.15601839,\n",
       "        0.07915897,  0.23154771, -0.0169825 , -0.01466523, -0.0033419 ,\n",
       "       -0.08290528, -0.01984712, -0.135677  , -0.12177448, -0.03335962,\n",
       "       -0.17835337, -0.13422302, -0.03268604, -0.07548972, -0.0421531 ,\n",
       "       -0.04994595, -0.10848361, -0.07935225, -0.14858541, -0.21920401,\n",
       "       -0.07485366, -0.1276737 , -0.08496734, -0.06135381, -0.0346665 ,\n",
       "       -0.02197916, -0.03738199, -0.0693973 , -0.05242808, -0.10479092,\n",
       "       -0.05708971, -0.01068735,  0.02521707,  0.07551147,  0.01410364,\n",
       "        0.10891998,  0.09191396,  0.11836413,  0.08608626,  0.11700134,\n",
       "        0.16769515,  0.13899503,  0.12283802,  0.16655349,  0.16929214,\n",
       "        0.09328562,  0.1039967 ,  0.1369494 ,  0.07891873,  0.07031449,\n",
       "        0.02025803,  0.09896626,  0.03810602, -0.02668274,  0.0050429 ,\n",
       "        0.01469309, -0.03260927, -0.0384516 , -0.02308869, -0.10423789,\n",
       "       -0.11536856, -0.14130754, -0.09870209, -0.10144429, -0.13433023,\n",
       "       -0.07933378, -0.09354265, -0.13882504, -0.11548843, -0.14546884,\n",
       "       -0.1267246 , -0.12816061, -0.17577625, -0.07423198, -0.13766554,\n",
       "       -0.1069547 , -0.11560111, -0.0759016 , -0.08591007, -0.06992214,\n",
       "       -0.0311475 , -0.04208444, -0.03684024, -0.05929495, -0.03805719,\n",
       "       -0.02837832,  0.00190015, -0.01101704,  0.02971026,  0.0381092 ,\n",
       "       -0.0171319 ])"
      ]
     },
     "execution_count": 16,
     "metadata": {},
     "output_type": "execute_result"
    }
   ],
   "source": [
    "acf(tseries, nlags=100)"
   ]
  },
  {
   "cell_type": "code",
   "execution_count": 17,
   "metadata": {},
   "outputs": [
    {
     "data": {
      "image/png": "[encoded data removed]",
      "text/plain": [
       "<Figure size 432x288 with 1 Axes>"
      ]
     },
     "metadata": {
      "needs_background": "light"
     },
     "output_type": "display_data"
    }
   ],
   "source": [
    "plot_acf(df.IsCanceled, lags=100, zero=False);"
   ]
  },
  {
   "cell_type": "code",
   "execution_count": 18,
   "metadata": {},
   "outputs": [
    {
     "name": "stderr",
     "output_type": "stream",
     "text": [
      "/home/michael/.local/lib/python3.6/site-packages/statsmodels/regression/linear_model.py:1406: RuntimeWarning: invalid value encountered in sqrt\n",
      "  return rho, np.sqrt(sigmasq)\n"
     ]
    },
    {
     "data": {
      "text/plain": [
       "array([ 1.00000000e+00,  3.63721836e-01,  3.61627367e-01,  2.34558155e-01,\n",
       "       -6.53247029e-02,  2.88548388e-03, -4.54403247e-02,  7.69701712e-02,\n",
       "        1.96715414e-01,  1.75407513e-02, -1.94685625e-01,  1.42765724e-01,\n",
       "       -1.74234695e-01, -1.54066321e-01, -4.05580516e-03, -6.48322467e-03,\n",
       "        1.41123990e-03, -1.17856389e-01, -1.08754057e-01,  6.51086069e-02,\n",
       "       -7.74094497e-02,  6.89681438e-03,  1.30870221e-01,  1.24424081e-01,\n",
       "        1.46764304e-02, -4.75959034e-02, -1.53771120e-01, -1.12646915e-01,\n",
       "        7.87518867e-04, -1.68414339e-01,  1.91141352e-02,  1.07302914e-01,\n",
       "        1.84468111e-02, -1.37359875e-01,  5.31365502e-02,  5.07311429e-02,\n",
       "        9.21028997e-02, -9.47076420e-03, -1.00767025e-01, -1.70957024e-01,\n",
       "        1.61098432e-01,  6.48927056e-02,  1.49754288e-01,  1.79744422e-01,\n",
       "       -1.52578196e-01,  2.49405932e-02,  2.70000571e-02,  1.46629643e-01,\n",
       "        6.05793350e-02, -5.08035110e-03,  1.73109289e-01,  1.17721702e-01,\n",
       "       -1.00235720e-01,  2.78021534e-02,  1.13243322e-01, -9.20945628e-02,\n",
       "       -2.38334713e-01,  1.93856919e-01, -1.98067448e-01, -1.75057138e-01,\n",
       "       -5.89871538e-02,  3.02164568e-01,  1.61174978e-01, -5.19142478e-02,\n",
       "       -3.31502715e-01,  6.24430456e-02,  2.96381685e-02, -4.25004702e-02,\n",
       "       -1.41303865e-01, -4.80244829e-01, -7.48139224e-01, -1.32988010e-01,\n",
       "        1.12655219e+00, -3.74845475e+00, -1.38681820e+00,  1.40643750e+00,\n",
       "        2.26519651e-01, -6.71856906e-01,  1.02479710e-01, -4.15092816e-01,\n",
       "       -1.72396048e+00,  5.68770668e-01, -1.28366027e+00, -3.73500701e+00,\n",
       "        1.19841204e+00,  8.63739192e-01, -9.83206161e-01,  1.07471457e+01,\n",
       "        8.87920183e-01,  1.12616792e+00,  5.45904462e+00, -8.21034793e-01,\n",
       "        9.89029095e-01, -9.81469056e+00, -1.15326319e+00,  8.09059737e-01,\n",
       "       -6.43091230e+00, -8.08600224e-01,  1.47733928e-01, -1.11071607e+00,\n",
       "        1.04396214e+00])"
      ]
     },
     "execution_count": 18,
     "metadata": {},
     "output_type": "execute_result"
    }
   ],
   "source": [
    "pacf(tseries, nlags=100)"
   ]
  },
  {
   "cell_type": "code",
   "execution_count": 19,
   "metadata": {},
   "outputs": [
    {
     "data": {
      "image/png": "[encoded data removed]",
      "text/plain": [
       "<Figure size 432x288 with 1 Axes>"
      ]
     },
     "metadata": {
      "needs_background": "light"
     },
     "output_type": "display_data"
    }
   ],
   "source": [
    "plot_pacf(df.IsCanceled, lags=10, zero=False);"
   ]
  },
  {
   "cell_type": "markdown",
   "metadata": {},
   "source": [
    "### Moving Average"
   ]
  },
  {
   "cell_type": "code",
   "execution_count": 20,
   "metadata": {},
   "outputs": [
    {
     "name": "stdout",
     "output_type": "stream",
     "text": [
      "[ 62.5   77.5   82.5   84.75  83.5   80.25 100.25  95.25 124.5  133.25\n",
      " 119.   149.5  107.    99.75  88.    49.75  59.25  51.5   45.    65.5\n",
      "  58.    51.5   66.75  45.75  48.5   49.25  33.    25.75  20.75  25.\n",
      "  65.5   70.25  99.75 107.5   75.5   83.5   79.75  74.    82.    90.25\n",
      "  89.75 129.   128.75 140.   146.25 111.25 116.25  99.75  92.    90.25\n",
      "  85.5   85.    87.25  98.5  103.   115.25 122.75 129.   134.   129.5\n",
      " 122.5  103.   105.75 107.25 106.5  111.   124.25 129.75 128.   124.25\n",
      "  88.5   69.75  60.5   57.25  56.5   62.75  68.    67.25  68.75  58.5\n",
      "  47.5   46.75  59.    72.25  91.5   98.   106.75 103.5   83.75  90.75\n",
      "  86.5  110.5  124.25 124.5  139.   120.75 114.5  120.5  129.25 132.\n",
      " 150.25 150.5  140.25 143.75 140.5  145.25 144.25 154.75 155.   163.\n",
      " 159.5  141.25]\n"
     ]
    }
   ],
   "source": [
    "window_size = 4\n",
    "\n",
    "numbers_series = pd.Series(tseries)\n",
    "windows = numbers_series.rolling(window_size)\n",
    "moving_averages = windows.mean()\n",
    "\n",
    "moving_averages_list = moving_averages.tolist()\n",
    "ts4 = moving_averages_list[window_size - 1:]\n",
    "ts4=np.array(ts4)\n",
    "print(ts4)"
   ]
  },
  {
   "cell_type": "code",
   "execution_count": 21,
   "metadata": {},
   "outputs": [
    {
     "data": {
      "image/png": "[encoded data removed]",
      "text/plain": [
       "<Figure size 432x288 with 1 Axes>"
      ]
     },
     "metadata": {
      "needs_background": "light"
     },
     "output_type": "display_data"
    }
   ],
   "source": [
    "n1=math.nan\n",
    "n4=np.array([n1,n1,n1,n1])\n",
    "ts4=np.concatenate([n4,ts4])\n",
    "plt.plot(tseries)\n",
    "plt.plot(ts4)\n",
    "plt.title(\"4-period Simple Moving Average\")\n",
    "plt.show()"
   ]
  },
  {
   "cell_type": "markdown",
   "metadata": {},
   "source": [
    "### Train-Test Split"
   ]
  },
  {
   "cell_type": "code",
   "execution_count": 22,
   "metadata": {},
   "outputs": [],
   "source": [
    "tseriesr=pd.Series(tseries)\n",
    "type(tseriesr)\n",
    "train, test = tseriesr[1:103], tseriesr[104:115]"
   ]
  },
  {
   "cell_type": "code",
   "execution_count": 23,
   "metadata": {},
   "outputs": [
    {
     "data": {
      "text/plain": [
       "pandas.core.series.Series"
      ]
     },
     "execution_count": 23,
     "metadata": {},
     "output_type": "execute_result"
    }
   ],
   "source": [
    "type(test)"
   ]
  },
  {
   "cell_type": "code",
   "execution_count": 24,
   "metadata": {},
   "outputs": [
    {
     "data": {
      "text/plain": [
       "FullDate\n",
       "201528     48.0\n",
       "201529     87.0\n",
       "201530     74.0\n",
       "201531    101.0\n",
       "201532     68.0\n",
       "          ...  \n",
       "201719    106.0\n",
       "201720     79.0\n",
       "201721    130.0\n",
       "201722    202.0\n",
       "201723    117.0\n",
       "Name: IsCanceled, Length: 102, dtype: float64"
      ]
     },
     "execution_count": 24,
     "metadata": {},
     "output_type": "execute_result"
    }
   ],
   "source": [
    "train"
   ]
  },
  {
   "cell_type": "code",
   "execution_count": 25,
   "metadata": {},
   "outputs": [
    {
     "data": {
      "text/plain": [
       "FullDate\n",
       "201725    131.0\n",
       "201726    161.0\n",
       "201727    131.0\n",
       "201728    139.0\n",
       "201729    150.0\n",
       "201730    157.0\n",
       "201731    173.0\n",
       "201732    140.0\n",
       "201733    182.0\n",
       "201734    143.0\n",
       "201735    100.0\n",
       "Name: IsCanceled, dtype: float64"
      ]
     },
     "execution_count": 25,
     "metadata": {},
     "output_type": "execute_result"
    }
   ],
   "source": [
    "test"
   ]
  },
  {
   "cell_type": "markdown",
   "metadata": {},
   "source": "# Milestone 3\n"
  },
  {
   "cell_type": "markdown",
   "metadata": {},
   "source": [
    "### auto_arima"
   ]
  },
  {
   "cell_type": "markdown",
   "metadata": {},
   "source": [
    "Looking at the autocorrelation function, the correlation drops off after 51 lags.\n",
    "\n",
    "In this regard, the seasonal factor (m) is set to **51** in the ARIMA configuration below."
   ]
  },
  {
   "cell_type": "code",
   "execution_count": 26,
   "metadata": {},
   "outputs": [
    {
     "name": "stdout",
     "output_type": "stream",
     "text": [
      "Performing stepwise search to minimize bic\n",
      " ARIMA(0,1,0)(0,1,0)[51]             : BIC=578.579, Time=0.31 sec\n",
      " ARIMA(1,1,0)(1,1,0)[51]             : BIC=568.064, Time=2.41 sec\n",
      " ARIMA(0,1,1)(0,1,1)[51]             : BIC=inf, Time=6.20 sec\n",
      " ARIMA(1,1,0)(0,1,0)[51]             : BIC=564.152, Time=0.32 sec\n",
      " ARIMA(1,1,0)(0,1,1)[51]             : BIC=568.064, Time=2.44 sec\n",
      " ARIMA(1,1,0)(1,1,1)[51]             : BIC=571.976, Time=3.17 sec\n",
      " ARIMA(2,1,0)(0,1,0)[51]             : BIC=561.339, Time=0.48 sec\n",
      " ARIMA(2,1,0)(1,1,0)[51]             : BIC=inf, Time=12.47 sec\n",
      " ARIMA(2,1,0)(0,1,1)[51]             : BIC=inf, Time=24.18 sec\n",
      " ARIMA(2,1,0)(1,1,1)[51]             : BIC=inf, Time=34.20 sec\n",
      " ARIMA(3,1,0)(0,1,0)[51]             : BIC=565.160, Time=1.42 sec\n",
      " ARIMA(2,1,1)(0,1,0)[51]             : BIC=inf, Time=3.74 sec\n",
      " ARIMA(1,1,1)(0,1,0)[51]             : BIC=inf, Time=1.78 sec\n",
      " ARIMA(3,1,1)(0,1,0)[51]             : BIC=inf, Time=2.88 sec\n",
      " ARIMA(2,1,0)(0,1,0)[51] intercept   : BIC=565.202, Time=1.00 sec\n",
      "\n",
      "Best model:  ARIMA(2,1,0)(0,1,0)[51]          \n",
      "Total fit time: 97.015 seconds\n"
     ]
    }
   ],
   "source": [
    "Arima_model=pm.auto_arima(train, start_p=0, start_q=0, max_p=10, max_q=10, start_P=0, start_Q=0, max_P=10, max_Q=10, m=51, stepwise=True, seasonal=True, information_criterion='bic', trace=True, d=1, D=1, error_action='warn', suppress_warnings=True, random_state = 20, n_fits=30)"
   ]
  },
  {
   "cell_type": "code",
   "execution_count": 27,
   "metadata": {},
   "outputs": [
    {
     "data": {
      "text/html": [
       "<table class=\"simpletable\">\n",
       "<caption>SARIMAX Results</caption>\n",
       "<tr>\n",
       "  <th>Dep. Variable:</th>                  <td>y</td>               <th>  No. Observations:  </th>    <td>102</td>  \n",
       "</tr>\n",
       "<tr>\n",
       "  <th>Model:</th>           <td>SARIMAX(2, 1, 0)x(0, 1, 0, 51)</td> <th>  Log Likelihood     </th> <td>-274.801</td>\n",
       "</tr>\n",
       "<tr>\n",
       "  <th>Date:</th>                   <td>Mon, 07 Dec 2020</td>        <th>  AIC                </th>  <td>555.603</td>\n",
       "</tr>\n",
       "<tr>\n",
       "  <th>Time:</th>                       <td>16:24:35</td>            <th>  BIC                </th>  <td>561.339</td>\n",
       "</tr>\n",
       "<tr>\n",
       "  <th>Sample:</th>                         <td>0</td>               <th>  HQIC               </th>  <td>557.787</td>\n",
       "</tr>\n",
       "<tr>\n",
       "  <th></th>                             <td> - 102</td>             <th>                     </th>     <td> </td>   \n",
       "</tr>\n",
       "<tr>\n",
       "  <th>Covariance Type:</th>               <td>opg</td>              <th>                     </th>     <td> </td>   \n",
       "</tr>\n",
       "</table>\n",
       "<table class=\"simpletable\">\n",
       "<tr>\n",
       "     <td></td>       <th>coef</th>     <th>std err</th>      <th>z</th>      <th>P>|z|</th>  <th>[0.025</th>    <th>0.975]</th>  \n",
       "</tr>\n",
       "<tr>\n",
       "  <th>ar.L1</th>  <td>   -0.7571</td> <td>    0.169</td> <td>   -4.474</td> <td> 0.000</td> <td>   -1.089</td> <td>   -0.425</td>\n",
       "</tr>\n",
       "<tr>\n",
       "  <th>ar.L2</th>  <td>   -0.3576</td> <td>    0.170</td> <td>   -2.098</td> <td> 0.036</td> <td>   -0.692</td> <td>   -0.024</td>\n",
       "</tr>\n",
       "<tr>\n",
       "  <th>sigma2</th> <td> 3433.5023</td> <td>  599.108</td> <td>    5.731</td> <td> 0.000</td> <td> 2259.273</td> <td> 4607.732</td>\n",
       "</tr>\n",
       "</table>\n",
       "<table class=\"simpletable\">\n",
       "<tr>\n",
       "  <th>Ljung-Box (Q):</th>          <td>44.89</td> <th>  Jarque-Bera (JB):  </th> <td>4.55</td> \n",
       "</tr>\n",
       "<tr>\n",
       "  <th>Prob(Q):</th>                <td>0.27</td>  <th>  Prob(JB):          </th> <td>0.10</td> \n",
       "</tr>\n",
       "<tr>\n",
       "  <th>Heteroskedasticity (H):</th> <td>1.43</td>  <th>  Skew:              </th> <td>-0.58</td>\n",
       "</tr>\n",
       "<tr>\n",
       "  <th>Prob(H) (two-sided):</th>    <td>0.47</td>  <th>  Kurtosis:          </th> <td>3.92</td> \n",
       "</tr>\n",
       "</table><br/><br/>Warnings:<br/>[1] Covariance matrix calculated using the outer product of gradients (complex-step)."
      ],
      "text/plain": [
       "<class 'statsmodels.iolib.summary.Summary'>\n",
       "\"\"\"\n",
       "                                     SARIMAX Results                                      \n",
       "==========================================================================================\n",
       "Dep. Variable:                                  y   No. Observations:                  102\n",
       "Model:             SARIMAX(2, 1, 0)x(0, 1, 0, 51)   Log Likelihood                -274.801\n",
       "Date:                            Mon, 07 Dec 2020   AIC                            555.603\n",
       "Time:                                    16:24:35   BIC                            561.339\n",
       "Sample:                                         0   HQIC                           557.787\n",
       "                                            - 102                                         \n",
       "Covariance Type:                              opg                                         \n",
       "==============================================================================\n",
       "                 coef    std err          z      P>|z|      [0.025      0.975]\n",
       "------------------------------------------------------------------------------\n",
       "ar.L1         -0.7571      0.169     -4.474      0.000      -1.089      -0.425\n",
       "ar.L2         -0.3576      0.170     -2.098      0.036      -0.692      -0.024\n",
       "sigma2      3433.5023    599.108      5.731      0.000    2259.273    4607.732\n",
       "===================================================================================\n",
       "Ljung-Box (Q):                       44.89   Jarque-Bera (JB):                 4.55\n",
       "Prob(Q):                              0.27   Prob(JB):                         0.10\n",
       "Heteroskedasticity (H):               1.43   Skew:                            -0.58\n",
       "Prob(H) (two-sided):                  0.47   Kurtosis:                         3.92\n",
       "===================================================================================\n",
       "\n",
       "Warnings:\n",
       "[1] Covariance matrix calculated using the outer product of gradients (complex-step).\n",
       "\"\"\""
      ]
     },
     "execution_count": 27,
     "metadata": {},
     "output_type": "execute_result"
    }
   ],
   "source": [
    "Arima_model.summary()"
   ]
  },
  {
   "cell_type": "code",
   "execution_count": 28,
   "metadata": {},
   "outputs": [],
   "source": [
    "prediction=pd.DataFrame(Arima_model.predict(n_periods=11), index=test.index)\n",
    "prediction.columns = ['Predicted_Cancellations']\n",
    "predictions=prediction['Predicted_Cancellations']"
   ]
  },
  {
   "cell_type": "code",
   "execution_count": 29,
   "metadata": {},
   "outputs": [
    {
     "data": {
      "text/html": [
       "<div>\n",
       "<style scoped>\n",
       "    .dataframe tbody tr th:only-of-type {\n",
       "        vertical-align: middle;\n",
       "    }\n",
       "\n",
       "    .dataframe tbody tr th {\n",
       "        vertical-align: top;\n",
       "    }\n",
       "\n",
       "    .dataframe thead th {\n",
       "        text-align: right;\n",
       "    }\n",
       "</style>\n",
       "<table border=\"1\" class=\"dataframe\">\n",
       "  <thead>\n",
       "    <tr style=\"text-align: right;\">\n",
       "      <th></th>\n",
       "      <th>Predicted_Cancellations</th>\n",
       "    </tr>\n",
       "    <tr>\n",
       "      <th>FullDate</th>\n",
       "      <th></th>\n",
       "    </tr>\n",
       "  </thead>\n",
       "  <tbody>\n",
       "    <tr>\n",
       "      <th>201725</th>\n",
       "      <td>137.728373</td>\n",
       "    </tr>\n",
       "    <tr>\n",
       "      <th>201726</th>\n",
       "      <td>142.730112</td>\n",
       "    </tr>\n",
       "    <tr>\n",
       "      <th>201727</th>\n",
       "      <td>117.800906</td>\n",
       "    </tr>\n",
       "    <tr>\n",
       "      <th>201728</th>\n",
       "      <td>176.889361</td>\n",
       "    </tr>\n",
       "    <tr>\n",
       "      <th>201729</th>\n",
       "      <td>173.591858</td>\n",
       "    </tr>\n",
       "    <tr>\n",
       "      <th>201730</th>\n",
       "      <td>149.450168</td>\n",
       "    </tr>\n",
       "    <tr>\n",
       "      <th>201731</th>\n",
       "      <td>178.608457</td>\n",
       "    </tr>\n",
       "    <tr>\n",
       "      <th>201732</th>\n",
       "      <td>201.983055</td>\n",
       "    </tr>\n",
       "    <tr>\n",
       "      <th>201733</th>\n",
       "      <td>198.084330</td>\n",
       "    </tr>\n",
       "    <tr>\n",
       "      <th>201734</th>\n",
       "      <td>171.588878</td>\n",
       "    </tr>\n",
       "    <tr>\n",
       "      <th>201735</th>\n",
       "      <td>159.170653</td>\n",
       "    </tr>\n",
       "  </tbody>\n",
       "</table>\n",
       "</div>"
      ],
      "text/plain": [
       "          Predicted_Cancellations\n",
       "FullDate                         \n",
       "201725                 137.728373\n",
       "201726                 142.730112\n",
       "201727                 117.800906\n",
       "201728                 176.889361\n",
       "201729                 173.591858\n",
       "201730                 149.450168\n",
       "201731                 178.608457\n",
       "201732                 201.983055\n",
       "201733                 198.084330\n",
       "201734                 171.588878\n",
       "201735                 159.170653"
      ]
     },
     "execution_count": 29,
     "metadata": {},
     "output_type": "execute_result"
    }
   ],
   "source": [
    "prediction"
   ]
  },
  {
   "cell_type": "code",
   "execution_count": 30,
   "metadata": {},
   "outputs": [
    {
     "data": {
      "text/plain": [
       "FullDate\n",
       "201725    131.0\n",
       "201726    161.0\n",
       "201727    131.0\n",
       "201728    139.0\n",
       "201729    150.0\n",
       "201730    157.0\n",
       "201731    173.0\n",
       "201732    140.0\n",
       "201733    182.0\n",
       "201734    143.0\n",
       "201735    100.0\n",
       "Name: IsCanceled, dtype: float64"
      ]
     },
     "execution_count": 30,
     "metadata": {},
     "output_type": "execute_result"
    }
   ],
   "source": [
    "test"
   ]
  },
  {
   "cell_type": "code",
   "execution_count": 31,
   "metadata": {},
   "outputs": [
    {
     "data": {
      "image/png": "[encoded data removed]",
      "text/plain": [
       "<Figure size 1080x720 with 1 Axes>"
      ]
     },
     "metadata": {
      "needs_background": "light"
     },
     "output_type": "display_data"
    }
   ],
   "source": [
    "plt.figure(figsize=(15,10))\n",
    "plt.plot(train, label='Training')\n",
    "plt.plot(test, label='Validation')\n",
    "plt.plot(prediction, label='Predicted')\n",
    "plt.legend(loc = 'upper center')\n",
    "plt.show()"
   ]
  },
  {
   "cell_type": "markdown",
   "metadata": {},
   "source": [
    "### Calculate Test RMSE"
   ]
  },
  {
   "cell_type": "code",
   "execution_count": 32,
   "metadata": {},
   "outputs": [
    {
     "name": "stdout",
     "output_type": "stream",
     "text": [
      "RMSE: 31.698875\n"
     ]
    }
   ],
   "source": [
    "mse = mean_squared_error(test, predictions)\n",
    "rmse = math.sqrt(mse)\n",
    "print('RMSE: %f' % rmse)"
   ]
  },
  {
   "cell_type": "code",
   "execution_count": 33,
   "metadata": {},
   "outputs": [
    {
     "data": {
      "text/plain": [
       "146.0909090909091"
      ]
     },
     "execution_count": 33,
     "metadata": {},
     "output_type": "execute_result"
    }
   ],
   "source": [
    "np.mean(test)"
   ]
  },
  {
   "cell_type": "markdown",
   "metadata": {},
   "source": [
    "### Interpretation"
   ]
  },
  {
   "cell_type": "markdown",
   "metadata": {},
   "source": [
    "The most suitable ARIMA model under this circumstance was identified as **ARIMA(2,1,0)(0,1,0)[51]**, with a BIC of **561.339**.\n",
    "\n",
    "The RMSE of 31 is 21% the size of the mean weekly cancellations of 146 for the test set. While a lower RMSE would be preferable, too low an RMSE value would potentially indicate that the model has been \"over-trained\" on the training set and will do well in forecasting the test set in question, but may perform poorly when it comes to forecasting subsequent data. Therefore, while RMSE is important, it is not regarded as the \"be all and end all\" when it comes to making accurate forecasts.\n",
    "\n",
    "Given that a visual scan of the predictions indicate that the model is capturing the shift in trends across different periods, this is an indication that the model is working well for these purposes. "
   ]
  },
  {
   "cell_type": "code",
   "execution_count": null,
   "metadata": {},
   "outputs": [],
   "source": []
  }
 ],
 "metadata": {
  "kernelspec": {
   "display_name": "Python 3",
   "language": "python",
   "name": "python3"
  },
  "language_info": {
   "codemirror_mode": {
    "name": "ipython",
    "version": 3
   },
   "file_extension": ".py",
   "mimetype": "text/x-python",
   "name": "python",
   "nbconvert_exporter": "python",
   "pygments_lexer": "ipython3",
   "version": "3.6.9"
  }
 },
 "nbformat": 4,
 "nbformat_minor": 2
}
